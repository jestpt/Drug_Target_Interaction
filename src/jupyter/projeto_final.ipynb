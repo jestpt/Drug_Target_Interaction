{
 "cells": [
  {
   "cell_type": "code",
   "execution_count": 5,
   "metadata": {},
   "outputs": [],
   "source": [
    "import pandas as pd\n",
    "import numpy as np\n",
    "from sklearn.feature_selection import RFE\n",
    "from sklearn.svm import LinearSVC\n",
    "import pickle\n",
    "from sklearn.ensemble import RandomForestClassifier\n",
    "from sklearn.model_selection import cross_val_score\n",
    "from sklearn.metrics import accuracy_score\n",
    "from sklearn.metrics import confusion_matrix\n",
    "from sklearn.metrics import roc_curve\n",
    "from sklearn.metrics import auc\n",
    "from sklearn.metrics import f1_score\n",
    "from sklearn.model_selection import train_test_split\n",
    "from sklearn.preprocessing import Imputer\n",
    "from sklearn.metrics import confusion_matrix"
   ]
  },
  {
   "cell_type": "code",
   "execution_count": 37,
   "metadata": {
    "scrolled": true
   },
   "outputs": [
    {
     "name": "stdout",
     "output_type": "stream",
     "text": [
      "      3      4      5      6      7       8        9      10      11     12   \\\n",
      "0  74.950  0.359 -0.040  0.279  0.341  24.449   99.599  0.024  51.904 -0.070   \n",
      "1  75.538  0.359 -0.012  0.262  0.367  24.915  100.000  0.010  49.377 -0.039   \n",
      "2  79.518  0.365 -0.012  0.289  0.317  27.510   99.799 -0.108  45.783  0.028   \n",
      "3  75.240  0.490  0.075  0.200  0.303  27.644  100.000  0.005  44.952 -0.011   \n",
      "4  68.984  0.310  0.045  0.283  0.401  23.529   97.861 -0.035  48.128  0.039   \n",
      "\n",
      "  ...   748  749  750  751  752  753  754  755  756  757  \n",
      "0 ...   0.0  0.0  0.0  0.0  0.0  0.0  0.0  0.0  0.0  1.0  \n",
      "1 ...   0.0  0.0  0.0  0.0  0.0  0.0  0.0  0.0  0.0  1.0  \n",
      "2 ...   0.0  0.0  0.0  0.0  0.0  1.0  0.0  0.0  1.0  1.0  \n",
      "3 ...   0.0  0.0  0.0  0.0  0.0  1.0  0.0  0.0  1.0  1.0  \n",
      "4 ...   0.0  0.0  0.0  0.0  0.0  1.0  0.0  0.0  0.0  1.0  \n",
      "\n",
      "[5 rows x 755 columns]\n",
      "      2      3      4      5      6       7       8      9       10     11   \\\n",
      "0  75.036  0.391 -0.009  0.235  0.367  24.242  99.134  0.025  47.619  0.035   \n",
      "1  75.036  0.391 -0.009  0.235  0.367  24.242  99.134  0.025  47.619  0.035   \n",
      "2  75.036  0.391 -0.009  0.235  0.367  24.242  99.134  0.025  47.619  0.035   \n",
      "3  75.036  0.391 -0.009  0.235  0.367  24.242  99.134  0.025  47.619  0.035   \n",
      "4  75.036  0.391 -0.009  0.235  0.367  24.242  99.134  0.025  47.619  0.035   \n",
      "\n",
      "  ...   747  748  749  750  751  752  753  754  755  756  \n",
      "0 ...   0.0  0.0  0.0  0.0  0.0  0.0  0.0  0.0  0.0  0.0  \n",
      "1 ...   0.0  0.0  0.0  0.0  0.0  0.0  0.0  0.0  0.0  1.0  \n",
      "2 ...   0.0  0.0  0.0  0.0  0.0  1.0  0.0  0.0  0.0  1.0  \n",
      "3 ...   0.0  0.0  0.0  0.0  0.0  1.0  0.0  0.0  0.0  1.0  \n",
      "4 ...   0.0  0.0  0.0  0.0  0.0  1.0  0.0  0.0  0.0  0.0  \n",
      "\n",
      "[5 rows x 755 columns]\n",
      "      3      4      5      6      7       8       9      10      11     12   \\\n",
      "0  78.173  0.310 -0.008  0.286  0.394  25.267  99.881  0.073  50.178 -0.030   \n",
      "1  78.455  0.404  0.012  0.262  0.323  26.220  99.390  0.066  50.610  0.052   \n",
      "2  74.788  0.390  0.041  0.261  0.341  25.847  99.894 -0.021  51.165 -0.042   \n",
      "3  77.055  0.339  0.020  0.271  0.373  22.260  99.658 -0.018  51.712 -0.027   \n",
      "4  77.381  0.405  0.026  0.231  0.361  22.109  98.299  0.015  48.639  0.009   \n",
      "\n",
      "  ...   748  749  750  751  752  753  754  755  756  757  \n",
      "0 ...   0.0  0.0  0.0  0.0  0.0  1.0  0.0  0.0  0.0  1.0  \n",
      "1 ...   0.0  0.0  0.0  0.0  0.0  1.0  0.0  0.0  0.0  1.0  \n",
      "2 ...   0.0  0.0  0.0  0.0  0.0  0.0  0.0  0.0  0.0  1.0  \n",
      "3 ...   0.0  0.0  0.0  0.0  0.0  0.0  0.0  0.0  0.0  1.0  \n",
      "4 ...   0.0  0.0  0.0  0.0  0.0  1.0  0.0  0.0  0.0  1.0  \n",
      "\n",
      "[5 rows x 755 columns]\n"
     ]
    }
   ],
   "source": [
    "# Get data\n",
    "\n",
    "# Data Train\n",
    "dataset_train = pd.read_csv('../../data/yamanishi_DTIs_REAL_NEGS.txt', sep = '\\t', header = None)\n",
    "dataset_train = dataset_train.drop([0, 1, 2], axis = 1)\n",
    "dataset_train = dataset_train.astype('float')\n",
    "print(dataset_train.head())\n",
    "\n",
    "\n",
    "#Data Test\n",
    "dataset_test = pd.read_csv('../../data/test_data_sc_and_bc.txt', sep = '\\t', header = None)\n",
    "dataset_test = dataset_test.drop([0, 1], axis = 1)\n",
    "dataset_test = dataset_test.astype('float')\n",
    "print(dataset_test.head())\n",
    "\n",
    "\n",
    "#Data Validation\n",
    "dataset_val = pd.read_csv('../../data/drugbank_DTIs_REAL_NEGS.txt', sep = '\\t', header = None)\n",
    "dataset_val = dataset_val.drop([0,1,2],axis = 1)\n",
    "dataset_val = dataset_val.astype('float')\n",
    "print(dataset_val.head())"
   ]
  },
  {
   "cell_type": "code",
   "execution_count": 38,
   "metadata": {},
   "outputs": [
    {
     "name": "stdout",
     "output_type": "stream",
     "text": [
      "      3      4      5      6      7       8        9      10      11     12   \\\n",
      "0  74.950  0.359 -0.040  0.279  0.341  24.449   99.599  0.024  51.904 -0.070   \n",
      "1  75.538  0.359 -0.012  0.262  0.367  24.915  100.000  0.010  49.377 -0.039   \n",
      "2  79.518  0.365 -0.012  0.289  0.317  27.510   99.799 -0.108  45.783  0.028   \n",
      "3  75.240  0.490  0.075  0.200  0.303  27.644  100.000  0.005  44.952 -0.011   \n",
      "4  68.984  0.310  0.045  0.283  0.401  23.529   97.861 -0.035  48.128  0.039   \n",
      "\n",
      "  ...   747  748  749  750  751  752  753  754  756  757  \n",
      "0 ...   0.0  0.0  0.0  0.0  0.0  0.0  0.0  0.0  0.0  1.0  \n",
      "1 ...   0.0  0.0  0.0  0.0  0.0  0.0  0.0  0.0  0.0  1.0  \n",
      "2 ...   0.0  0.0  0.0  0.0  0.0  0.0  1.0  0.0  1.0  1.0  \n",
      "3 ...   0.0  0.0  0.0  0.0  0.0  0.0  1.0  0.0  1.0  1.0  \n",
      "4 ...   0.0  0.0  0.0  0.0  0.0  0.0  1.0  0.0  0.0  1.0  \n",
      "\n",
      "[5 rows x 754 columns]\n",
      "      2      3      4      5      6       7       8      9       10     11   \\\n",
      "0  75.036  0.391 -0.009  0.235  0.367  24.242  99.134  0.025  47.619  0.035   \n",
      "1  75.036  0.391 -0.009  0.235  0.367  24.242  99.134  0.025  47.619  0.035   \n",
      "2  75.036  0.391 -0.009  0.235  0.367  24.242  99.134  0.025  47.619  0.035   \n",
      "3  75.036  0.391 -0.009  0.235  0.367  24.242  99.134  0.025  47.619  0.035   \n",
      "4  75.036  0.391 -0.009  0.235  0.367  24.242  99.134  0.025  47.619  0.035   \n",
      "\n",
      "  ...   746  747  748  749  750  751  752  753  754  756  \n",
      "0 ...   0.0  0.0  0.0  0.0  0.0  0.0  0.0  0.0  0.0  0.0  \n",
      "1 ...   0.0  0.0  0.0  0.0  0.0  0.0  0.0  0.0  0.0  1.0  \n",
      "2 ...   0.0  0.0  0.0  0.0  0.0  0.0  1.0  0.0  0.0  1.0  \n",
      "3 ...   0.0  0.0  0.0  0.0  0.0  0.0  1.0  0.0  0.0  1.0  \n",
      "4 ...   0.0  0.0  0.0  0.0  0.0  0.0  1.0  0.0  0.0  0.0  \n",
      "\n",
      "[5 rows x 754 columns]\n",
      "      3      4      5      6      7       8       9      10      11     12   \\\n",
      "0  78.173  0.310 -0.008  0.286  0.394  25.267  99.881  0.073  50.178 -0.030   \n",
      "1  78.455  0.404  0.012  0.262  0.323  26.220  99.390  0.066  50.610  0.052   \n",
      "2  74.788  0.390  0.041  0.261  0.341  25.847  99.894 -0.021  51.165 -0.042   \n",
      "3  77.055  0.339  0.020  0.271  0.373  22.260  99.658 -0.018  51.712 -0.027   \n",
      "4  77.381  0.405  0.026  0.231  0.361  22.109  98.299  0.015  48.639  0.009   \n",
      "\n",
      "  ...   747  748  749  750  751  752  753  754  756  757  \n",
      "0 ...   0.0  0.0  0.0  0.0  0.0  0.0  1.0  0.0  0.0  1.0  \n",
      "1 ...   1.0  0.0  0.0  0.0  0.0  0.0  1.0  0.0  0.0  1.0  \n",
      "2 ...   0.0  0.0  0.0  0.0  0.0  0.0  0.0  0.0  0.0  1.0  \n",
      "3 ...   0.0  0.0  0.0  0.0  0.0  0.0  0.0  0.0  0.0  1.0  \n",
      "4 ...   0.0  0.0  0.0  0.0  0.0  0.0  1.0  0.0  0.0  1.0  \n",
      "\n",
      "[5 rows x 754 columns]\n"
     ]
    }
   ],
   "source": [
    "# Remove duplicates & drop missing values & get labels\n",
    "\n",
    "dataset_train = dataset_train.dropna()\n",
    "dataset_test = dataset_test.dropna()\n",
    "dataset_val = dataset_val.dropna()\n",
    "\n",
    "dataset_train = dataset_train.drop_duplicates()\n",
    "dataset_test = dataset_test.drop_duplicates()\n",
    "dataset_val = dataset_val.drop_duplicates()\n",
    "\n",
    "\n",
    "dataset_train_labels=dataset_train.iloc[:,-1]\n",
    "dataset_test_labels=dataset_test.iloc[:,-1]\n",
    "dataset_val_labels=dataset_val.iloc[:,-1]\n",
    "\n",
    "dataset_train=dataset_train.drop(755,axis = 1)\n",
    "dataset_test=dataset_test.drop(755,axis = 1)\n",
    "dataset_val=dataset_val.drop(755,axis = 1)\n",
    "\n",
    "print(dataset_train.head())\n",
    "print(dataset_test.head())\n",
    "print(dataset_val.head())\n",
    "\n",
    "\n",
    "\n",
    "\n",
    "\n",
    "\n"
   ]
  },
  {
   "cell_type": "code",
   "execution_count": 39,
   "metadata": {},
   "outputs": [
    {
     "name": "stdout",
     "output_type": "stream",
     "text": [
      "[[ 5259     1]\n",
      " [    0 25560]]\n",
      "1.0\n",
      "0.9999608778999257\n"
     ]
    }
   ],
   "source": [
    "#\n",
    "clf = RandomForestClassifier(n_estimators = 100)\n",
    "clf.fit(dataset_train, dataset_train_labels)\n",
    "y_predicted = clf.predict(dataset_test)\n",
    "\n",
    "\n",
    "cnf_matrix = confusion_matrix(dataset_test_labels, y_predicted)\n",
    "sensitivity = cnf_matrix[0,0]/(cnf_matrix[0,0]+cnf_matrix[1,0])\n",
    "specificity = cnf_matrix[1,1]/(cnf_matrix[0,1]+cnf_matrix[1,1])\n",
    "print(cnf_matrix)\n",
    "print(sensitivity)\n",
    "print(specificity)"
   ]
  },
  {
   "cell_type": "code",
   "execution_count": null,
   "metadata": {},
   "outputs": [],
   "source": []
  }
 ],
 "metadata": {
  "kernelspec": {
   "display_name": "Python 3",
   "language": "python",
   "name": "python3"
  },
  "language_info": {
   "codemirror_mode": {
    "name": "ipython",
    "version": 3
   },
   "file_extension": ".py",
   "mimetype": "text/x-python",
   "name": "python",
   "nbconvert_exporter": "python",
   "pygments_lexer": "ipython3",
   "version": "3.6.5"
  }
 },
 "nbformat": 4,
 "nbformat_minor": 2
}
